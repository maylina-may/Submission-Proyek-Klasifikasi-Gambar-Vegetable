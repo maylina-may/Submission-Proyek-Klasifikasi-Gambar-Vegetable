{
  "nbformat": 4,
  "nbformat_minor": 0,
  "metadata": {
    "colab": {
      "provenance": []
    },
    "kernelspec": {
      "name": "python3",
      "display_name": "Python 3"
    },
    "language_info": {
      "name": "python"
    }
  },
  "cells": [
    {
      "cell_type": "markdown",
      "source": [
        "#**🥦 Submission Klasifikasi Gambar : Vegetable Image Dataset**"
      ],
      "metadata": {
        "id": "zqvOLp0HvaEn"
      }
    },
    {
      "cell_type": "markdown",
      "source": [
        "Repositori ini berisi proyek akhir dari pembelajaran *Machine Learning* yang fokus pada klasifikasi gambar sayuran menggunakan Convolutional Neural Network (CNN). Model dikembangkan dengan TensorFlow dan Keras, serta dievaluasi dengan berbagai metrik akurasi dan visualisasi hasil prediksi.\n"
      ],
      "metadata": {
        "id": "fhkt0UAoxOYL"
      }
    },
    {
      "cell_type": "markdown",
      "source": [
        "#**✨ Ringkasan Submission**"
      ],
      "metadata": {
        "id": "OVkA_EBlxyN6"
      }
    },
    {
      "cell_type": "markdown",
      "source": [
        "Model dikembangkan untuk mengenali beberapa jenis sayuran berdasarkan gambar. Dataset citra yang digunakan telah dibagi menjadi data pelatihan, validasi, dan pengujian. Proses augmentasi dilakukan untuk memperkaya variasi data, dan model dioptimalkan menggunakan `Adam Optimizer`.\n"
      ],
      "metadata": {
        "id": "5_N1Tyw5x-bG"
      }
    },
    {
      "cell_type": "markdown",
      "source": [
        "#**🔍 Fitur Utama**\n"
      ],
      "metadata": {
        "id": "TF9Cw-7nyetC"
      }
    },
    {
      "cell_type": "markdown",
      "source": [
        "\n",
        "- **Klasifikasi Gambar Multikategori**: Memprediksi label dari gambar sayuran secara otomatis.\n",
        "- **Augmentasi Data**: Termasuk rotasi, flip horizontal, zoom, dan transformasi lainnya untuk meningkatkan kemampuan generalisasi model.\n",
        "- **CNN Arsitektur Sederhana**: Dirancang menggunakan `Sequential API` dengan lapisan `Conv2D`, `MaxPooling2D`, dan `Dense`.\n",
        "- **Evaluasi Model**: Menggunakan confusion matrix, classification report, dan visualisasi hasil akurasi/loss.\n",
        "- **Inference**: Pengujian pada gambar individual menggunakan model `TFSMLayer` dan `TFLite Interpreter`.\n"
      ],
      "metadata": {
        "id": "KopROekeyKql"
      }
    },
    {
      "cell_type": "markdown",
      "source": [
        "#**📦 Dataset**"
      ],
      "metadata": {
        "id": "Be61mEhwzmZH"
      }
    },
    {
      "cell_type": "markdown",
      "source": [
        "- Nama Dataset: Vegetable Image Dataset\n",
        "- Sumber: https://www.kaggle.com/datasets/misrakahmed/vegetable-image-dataset?utm_source=chatgpt.com\n",
        "- Jumlah Kelas: 15 kelas\n",
        "- Total gambar: 21000\n",
        "- Ukuran citra: Gambar-gambar memiliki ukuran awal yang bervariasi, namun seluruhnya di-resize ke ukuran 128x128 piksel sebelum digunakan dalam pelatihan dan pengujian model\n",
        "- Dataset dibagi menjadi: 70% training, 20% validation, 10% testing\n"
      ],
      "metadata": {
        "id": "u2bWzQvS0vPg"
      }
    },
    {
      "cell_type": "markdown",
      "source": [
        "#**🧠 Arsitektur Model**\n"
      ],
      "metadata": {
        "id": "zN7LUor43cXD"
      }
    },
    {
      "cell_type": "markdown",
      "source": [
        "- Jenis Model: CNN (Sequential)\n",
        "- Lapisan Utama:\n",
        "  - Conv2D → MaxPooling2D\n",
        "  - Flatten → Dense\n",
        "- Aktivasi: ReLU untuk hidden layers, Softmax untuk output\n",
        "- Optimizer: Adam\n",
        "- Loss Function: Categorical Crossentropy\n",
        "- Metrik Evaluasi: Accuracy"
      ],
      "metadata": {
        "id": "w7m24mfg_SL6"
      }
    },
    {
      "cell_type": "markdown",
      "source": [
        "#**📈 Hasil Evaluasi & Visualisasi**"
      ],
      "metadata": {
        "id": "RxQ8UkjS3zTS"
      }
    },
    {
      "cell_type": "markdown",
      "source": [
        "###Hasil Evaluasi\n",
        "Kode tersebut mengevaluasi model yang dilatih menggunakan data uji dan menampilkan akurasi dan loss.\n",
        "- Akurasi Training: Model mencapai akurasi 98.25% pada data training. Ini ditunjukkan oleh output dari kode:\n"
      ],
      "metadata": {
        "id": "baWvH9Yt6mX3"
      }
    },
    {
      "cell_type": "code",
      "source": [
        "print(f\"Akurasi Train: {train_accuracy[-1] * 100:.2f}%\")"
      ],
      "metadata": {
        "id": "4eeryPzF-Wja"
      },
      "execution_count": null,
      "outputs": []
    },
    {
      "cell_type": "markdown",
      "source": [
        "- Akurasi Testing: Model mencapai akurasi 93.54% pada data testing. Ini ditunjukkan oleh output dari kode :"
      ],
      "metadata": {
        "id": "ocbpJDq8-RWE"
      }
    },
    {
      "cell_type": "code",
      "source": [
        "print(f'Test Accuracy: {test_accuracy}')"
      ],
      "metadata": {
        "id": "f5uZ4OJu-nZ0"
      },
      "execution_count": null,
      "outputs": []
    },
    {
      "cell_type": "markdown",
      "source": [
        "- Loss: Kode juga menghitung dan menampilkan loss pada data testing. Nilai loss menunjukkan seberapa besar kesalahan model dalam prediksinya. Semakin rendah loss, semakin baik model tersebut."
      ],
      "metadata": {
        "id": "gz2SS6MJ-sbl"
      }
    },
    {
      "cell_type": "markdown",
      "source": [
        "###Visualisasi\n",
        "Kode tersebut juga membuat plot untuk memvisualisasikan akurasi dan loss model selama proses training.\n",
        "\n",
        "Plot Akurasi: Menampilkan akurasi model pada data training dan validasi selama proses training.\n",
        "Plot Loss: Menampilkan loss model pada data training dan validasi selama proses training.\n"
      ],
      "metadata": {
        "id": "2lcPpcvU-uzW"
      }
    },
    {
      "cell_type": "markdown",
      "source": [
        "#**💻Cara Penggunaan**"
      ],
      "metadata": {
        "id": "NNI5eiZ-32Yx"
      }
    },
    {
      "cell_type": "markdown",
      "source": [
        "### Menjalankan di Google Colab\n",
        "1. Upload file `.ipynb` ke Colab\n",
        "https://colab.research.google.com/drive/1HZw_IvMDD-n17Q4O9YPdTbzqMvBVDdyx#scrollTo=9ICO2-E0YxzD\n",
        "2. Upload folder dataset ke runtime\n",
        "https://www.kaggle.com/datasets/misrakahmed/vegetable-image-dataset?utm_source=chatgpt.com\n",
        "3. Jalankan setiap sel dari atas ke bawah sesuai urutan\n",
        "\n",
        "### Menjalankan di Lokal (Jupyter Notebook)\n",
        "1. Clone repositori ini\n",
        "https://github.com/maylina-may/Submission-Proyek-Klasifikasi-Gambar-Vegetable\n",
        "2. Install dependensi menggunakan `pip install -r requirements.txt`\n",
        "3. Buka dan jalankan notebook secara berurutan\n",
        "\n",
        "### Akses File lengkapnya\n",
        "GoogleDrive\n",
        "https://drive.google.com/drive/folders/1uksNRNCvpOuAwCCUN8BPwudkCAyjbtK8?usp=sharing\n"
      ],
      "metadata": {
        "id": "UsLHTnYp5p5L"
      }
    },
    {
      "cell_type": "markdown",
      "source": [
        "#**💾 Format Model**"
      ],
      "metadata": {
        "id": "ljbFiu_w_mIt"
      }
    },
    {
      "cell_type": "markdown",
      "source": [
        "- .Keras\n",
        "- SavedModel\n",
        "- TensorFlow Lite\n",
        "- TensorFlow.js"
      ],
      "metadata": {
        "id": "BWLslchK_uF7"
      }
    },
    {
      "cell_type": "markdown",
      "source": [
        "#**👩‍💻 Kontributor**"
      ],
      "metadata": {
        "id": "YN1wrMgIAWYI"
      }
    },
    {
      "cell_type": "markdown",
      "source": [
        "| Nama Lengkap      | Email                        | ID Dicoding             |\n",
        "|-------------------|------------------------------|--------------------------|\n",
        "| Maylina Nur'aini  | maylinanuraini@gmail.com     | mc444d5x0679             |"
      ],
      "metadata": {
        "id": "hPy0pmZjAmgK"
      }
    }
  ]
}